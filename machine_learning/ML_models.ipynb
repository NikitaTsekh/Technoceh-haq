{
 "cells": [
  {
   "cell_type": "markdown",
   "id": "c43ba684-d194-4f82-8113-29d96ea18786",
   "metadata": {},
   "source": [
    "***1. Модель для динамического ценообразования***"
   ]
  },
  {
   "cell_type": "markdown",
   "id": "8c449ff0-9367-4ff9-95bb-6addcbdae9f2",
   "metadata": {},
   "source": [
    "Клиенту требуется набрать в проект людей как можно быстрее, при этом точно знать что рабочие выйдут на объект.\n",
    "\n",
    "Один из параметров на которые клиент влияет - это цена  задания. Но клиент не знает структуру рынка труда для данной специальности (например, сколько в данном районе получают штукуатуры за смены или электрики), и может поставить цену непривлекательную для исполнителя или наоборот слишком высокую, что приведет к перерасходу бюджета.\n",
    "Наша модель машинного обучения предложит клиенту в момент создания проекта и заказа оптимальную цену.\n",
    "\n",
    "\n",
    "Для этого по историческим данным собран датасет с такими данными как:\n",
    "- Тип работы \n",
    "- Продолжительнсть заказа\n",
    "- Город \n",
    "- Расстояние от центра города\n",
    "- Тип работы\n",
    "- Продолжительность заказа (часы)\n",
    "- Рейтинг клиента среди исполнителей\n",
    "- Требуемая квалификация (уровень)\n",
    "- Сезонность (месец)\n",
    "- День недели\n",
    "- Время суток\n",
    "- Наличие бонусов (да/нет)\n",
    "- Средняя температура на дату заказа (градусы)\n",
    "- Количество доступных работников в данном районе\n",
    "- Историческая средняя цена за подобные работы\n",
    "- Уровень безработицы в данном районе\n",
    "- Средний рейтинг исполнителей\n",
    "\n",
    "Целевым признаком в данной модели будет время самодобавления человека в смену, мы  стараемся его минимизировать.\n",
    "При помощи кросс валидации находим валидируем качество модели\n"
   ]
  },
  {
   "cell_type": "code",
   "execution_count": 5,
   "id": "5718e310-3756-4bf9-b51c-15fd7cad24ca",
   "metadata": {
    "execution": {
     "iopub.execute_input": "2024-08-04T03:54:16.420323Z",
     "iopub.status.busy": "2024-08-04T03:54:16.420061Z",
     "iopub.status.idle": "2024-08-04T03:54:16.423175Z",
     "shell.execute_reply": "2024-08-04T03:54:16.422731Z",
     "shell.execute_reply.started": "2024-08-04T03:54:16.420307Z"
    },
    "tags": []
   },
   "outputs": [],
   "source": [
    "import pandas as pd\n",
    "import numpy as np\n",
    "import warnings\n",
    "from sklearn.model_selection import train_test_split\n",
    "from sklearn.ensemble import RandomForestRegressor\n",
    "from sklearn.metrics import mean_squared_error\n",
    "from sklearn.preprocessing import StandardScaler"
   ]
  },
  {
   "cell_type": "code",
   "execution_count": 13,
   "id": "eaf97adb-254c-4a88-86ab-c5ed84d0b7de",
   "metadata": {
    "execution": {
     "iopub.execute_input": "2024-08-04T03:59:40.578905Z",
     "iopub.status.busy": "2024-08-04T03:59:40.578679Z",
     "iopub.status.idle": "2024-08-04T03:59:46.468117Z",
     "shell.execute_reply": "2024-08-04T03:59:46.467520Z",
     "shell.execute_reply.started": "2024-08-04T03:59:40.578887Z"
    },
    "tags": []
   },
   "outputs": [
    {
     "name": "stdout",
     "output_type": "stream",
     "text": [
      "Среднеквадратичная ошибка: 2.01\n",
      "Рекомендованная цена за смену: 1950.00 руб., ожидаемое время самодобавления исполнителя в проект: 2.09 часов.\n"
     ]
    }
   ],
   "source": [
    "# Скрыть предупреждения\n",
    "warnings.filterwarnings('ignore')\n",
    "\n",
    "# получение анныех\n",
    "data = pd.read_csv('dynamic_pricisin_dataset.csv.csv')\n",
    "\n",
    "# Преобразование категориальных признаков в числовые\n",
    "data = pd.get_dummies(data, columns=['тип_работы', 'город', 'требуемая_квалификация'], drop_first=True)\n",
    "\n",
    "# Определение признаков и целевой переменной\n",
    "X = data.drop('время_самодобавления', axis=1)\n",
    "y = data['время_самодобавления']\n",
    "\n",
    "# Разделение данных на обучающую и тестовую выборки\n",
    "X_train, X_test, y_train, y_test = train_test_split(X, y, test_size=0.2, random_state=42)\n",
    "\n",
    "# Масштабирование данных\n",
    "scaler = StandardScaler()\n",
    "X_train = scaler.fit_transform(X_train)\n",
    "X_test = scaler.transform(X_test)\n",
    "\n",
    "# Построение модели случайного леса\n",
    "model = RandomForestRegressor(n_estimators=100, random_state=42)\n",
    "model.fit(X_train, y_train)\n",
    "\n",
    "# Прогнозирование и оценка модели\n",
    "y_pred = model.predict(X_test)\n",
    "mse = mean_squared_error(y_test, y_pred)\n",
    "print(f'Среднеквадратичная ошибка: {mse:.2f}')\n",
    "\n",
    "# Функция для поиска оптимальной цены\n",
    "def find_optimal_price(model, new_job, price_range):\n",
    "    min_time = float('inf')\n",
    "    best_price = None\n",
    "    \n",
    "    for price in price_range:\n",
    "        new_job['цена_за_смену'] = price\n",
    "        new_job_scaled = scaler.transform(new_job)\n",
    "        predicted_time = model.predict(new_job_scaled)\n",
    "        if predicted_time < min_time:\n",
    "            min_time = predicted_time\n",
    "            best_price = price\n",
    "            \n",
    "    return best_price, min_time\n",
    "\n",
    "# Прогнозирование времени самодобавления для нового заказа\n",
    "new_job = pd.DataFrame({\n",
    "    'продолжительность_заказа': [8],\n",
    "    'расстояние_от_центра': [5],\n",
    "    'сезон': [7],\n",
    "    'день_недели': [3],\n",
    "    'время_суток': [14],\n",
    "    'наличие_бонусов': [1],\n",
    "    'средняя_температура': [20],\n",
    "    'количество_доступных_работников': [25],\n",
    "    'историческая_средняя_цена': [3000],\n",
    "    'уровень_безработицы': [3.5],\n",
    "    'средний_рейтинг': [4.2],\n",
    "    'тип_работы_покраска': [0],\n",
    "    'тип_работы_уборка': [0],\n",
    "    'тип_работы_электрика': [0],\n",
    "    'город_Санкт-Петербург': [0],\n",
    "    'город_Новосибирск': [0],\n",
    "    'город_Екатеринбург': [0],\n",
    "    'требуемая_квалификация_средняя': [1],\n",
    "    'требуемая_квалификация_высокая': [0]\n",
    "})\n",
    "\n",
    "# Заполнение отсутствующих столбцов нулями\n",
    "missing_cols = set(X.columns) - set(new_job.columns)\n",
    "for col in missing_cols:\n",
    "    new_job[col] = 0\n",
    "new_job = new_job[X.columns]\n",
    "\n",
    "# Определение диапазона цен для поиска оптимального значения\n",
    "price_range = np.linspace(1950, 10000, 100)\n",
    "\n",
    "# Поиск оптимальной цены\n",
    "optimal_price, minimal_time = find_optimal_price(model, new_job, price_range)\n",
    "print(f\"Рекомендованная цена за смену: {optimal_price:.2f} руб., ожидаемое время самодобавления исполнителя в проект: {minimal_time[0]:.2f} часов.\")"
   ]
  },
  {
   "attachments": {
    "b2c7ca36-9639-4a2f-8418-e773eefe87a9.png": {
     "image/png": "[encoded data removed]"
    }
   },
   "cell_type": "markdown",
   "id": "9c8d0753-c1c8-40c2-9e86-0cd2a9a92921",
   "metadata": {},
   "source": [
    "![image.png](attachment:b2c7ca36-9639-4a2f-8418-e773eefe87a9.png)"
   ]
  },
  {
   "cell_type": "markdown",
   "id": "54771823-177b-42ed-99dc-eaf3eab99896",
   "metadata": {},
   "source": [
    "***2. Модель прогнозирования вероятности выхода на смену исполнителя***\n",
    "\n",
    "\n",
    "Клиент хочет быть уверен что заказ будет выполнен исполнителями качественно и в срок. При этом у исполнитель может не выйти на заказ, или иным образом повлиять на качество и время выполнения заказа. Помимо очевидной метрики \"рейтинг исполнителя от клиента\" мы хотим предсказать процент вероятности выхода исполнителя на смену, чтобы принимающий решение человек мог либо набрать резервных исполнителей либо убрать тех у кого процент низок.\n",
    "\n",
    "Для этого по историческим данным собран датасет с такими данными как:\n",
    "\n",
    "- ID заказа\n",
    "- ID исполнителя\n",
    "- Тип работы\n",
    "- Город\n",
    "- Продолжительность заказа\n",
    "- Расстояние от центра города\n",
    "- Рейтинг исполнителя\n",
    "- Возраст исполнителя\n",
    "- Опыт работы исполнителя (в годах)\n",
    "- Наличие бонусов\n",
    "- Историческая средняя зарплата за смену в этом районе\n",
    "- Уровень безработицы в регионе\n",
    "- День недели\n",
    "- Время суток\n",
    "- СезонID заказа\n",
    "- ID исполнителя\n",
    "- Тип работы\n",
    "- Город\n",
    "- Продолжительность заказа\n",
    "- Расстояние от центра города\n",
    "- Рейтинг исполнителя\n",
    "- Возраст исполнителя\n",
    "- Опыт работы исполнителя (в годах)\n",
    "- Наличие бонусов\n",
    "- Историческая средняя зарплата за смену в этом районе\n",
    "- Уровень безработицы в регионе\n",
    "- День недели\n",
    "- Время суток\n",
    "- Сезон\n",
    "\n",
    "\n",
    "\n",
    "\n",
    "\n",
    "\n",
    "Целевым признаком в данной модели будет бинарный признак вышел/не вышел на смену\n",
    "\n",
    "\n"
   ]
  },
  {
   "cell_type": "code",
   "execution_count": 16,
   "id": "ad538e77-9335-44c4-9e9f-e7fbefd72930",
   "metadata": {
    "execution": {
     "iopub.execute_input": "2024-08-04T04:08:32.793976Z",
     "iopub.status.busy": "2024-08-04T04:08:32.793653Z",
     "iopub.status.idle": "2024-08-04T04:08:32.797936Z",
     "shell.execute_reply": "2024-08-04T04:08:32.797240Z",
     "shell.execute_reply.started": "2024-08-04T04:08:32.793951Z"
    },
    "tags": []
   },
   "outputs": [],
   "source": [
    "import pandas as pd\n",
    "import numpy as np\n",
    "import warnings\n",
    "from sklearn.model_selection import train_test_split\n",
    "from sklearn.ensemble import RandomForestClassifier\n",
    "from sklearn.metrics import accuracy_score\n",
    "from sklearn.preprocessing import StandardScaler\n"
   ]
  },
  {
   "cell_type": "code",
   "execution_count": 17,
   "id": "7101e4b0-2134-4db8-a5a1-8f3d7aafc887",
   "metadata": {
    "execution": {
     "iopub.execute_input": "2024-08-04T04:08:34.284558Z",
     "iopub.status.busy": "2024-08-04T04:08:34.284232Z",
     "iopub.status.idle": "2024-08-04T04:08:35.677412Z",
     "shell.execute_reply": "2024-08-04T04:08:35.676844Z",
     "shell.execute_reply.started": "2024-08-04T04:08:34.284542Z"
    },
    "tags": []
   },
   "outputs": [
    {
     "name": "stdout",
     "output_type": "stream",
     "text": [
      "Точность модели: 0.49\n",
      "Вероятность выхода на смену: 0.47\n"
     ]
    }
   ],
   "source": [
    "# Чтение данных из CSV\n",
    "data = pd.read_csv('dataset_vykhod_na_smjenu.csv')\n",
    "\n",
    "# Преобразование категориальных признаков в числовые\n",
    "data = pd.get_dummies(data, columns=['тип_работы', 'город'], drop_first=True)\n",
    "\n",
    "# Определение признаков и целевой переменной\n",
    "X = data.drop('вышел_на_смену', axis=1)\n",
    "y = data['вышел_на_смену']\n",
    "\n",
    "# Разделение данных на обучающую и тестовую выборки\n",
    "X_train, X_test, y_train, y_test = train_test_split(X, y, test_size=0.2, random_state=42)\n",
    "\n",
    "# Масштабирование данных\n",
    "scaler = StandardScaler()\n",
    "X_train = scaler.fit_transform(X_train)\n",
    "X_test = scaler.transform(X_test)\n",
    "\n",
    "# Построение модели случайного леса\n",
    "model = RandomForestClassifier(n_estimators=100, random_state=42)\n",
    "model.fit(X_train, y_train)\n",
    "\n",
    "# Прогнозирование и оценка модели\n",
    "y_pred = model.predict(X_test)\n",
    "accuracy = accuracy_score(y_test, y_pred)\n",
    "print(f'Точность модели: {accuracy:.2f}')\n",
    "\n",
    "# Прогнозирование вероятности выхода на смену для нового заказа\n",
    "new_job = pd.DataFrame({\n",
    "    'ID_заказа': [10001],\n",
    "    'ID_исполнителя': [501],\n",
    "    'продолжительность_заказа': [8],\n",
    "    'расстояние_от_центра': [5],\n",
    "    'рейтинг_исполнителя': [4.2],\n",
    "    'возраст_исполнителя': [30],\n",
    "    'опыт_работы': [5],\n",
    "    'наличие_бонусов': [1],\n",
    "    'историческая_средняя_зарплата': [3000],\n",
    "    'уровень_безработицы': [3.5],\n",
    "    'день_недели': [3],\n",
    "    'время_суток': [14],\n",
    "    'сезон': [2],\n",
    "    'тип_работы_покраска': [0],\n",
    "    'тип_работы_уборка': [0],\n",
    "    'тип_работы_электрика': [0],\n",
    "    'город_Санкт-Петербург': [0],\n",
    "    'город_Новосибирск': [0],\n",
    "    'город_Екатеринбург': [0]\n",
    "})\n",
    "\n",
    "# Заполнение отсутствующих столбцов нулями\n",
    "missing_cols = set(X.columns) - set(new_job.columns)\n",
    "for col in missing_cols:\n",
    "    new_job[col] = 0\n",
    "new_job = new_job[X.columns]\n",
    "\n",
    "# Масштабирование новых данных\n",
    "new_job_scaled = scaler.transform(new_job)\n",
    "\n",
    "# Прогнозирование вероятности\n",
    "probability = model.predict_proba(new_job_scaled)[0, 1]\n",
    "print(f\"Вероятность выхода на смену: {probability:.2f}\")"
   ]
  },
  {
   "cell_type": "markdown",
   "id": "e209e549-3225-4f8a-b842-4c6ac24c94f7",
   "metadata": {},
   "source": [
    "***3.Рекомендация заявок***\n",
    "\n",
    "Исполнителю может быть доступно для выполнения работ множество заказов. При этом ему было бы проще не выбирать каждый раз и получать рекомендацию на основании его прошлых выборов.\n",
    "\n",
    "\n",
    "Признаки данных\n",
    "- ID заказа\n",
    "- ID исполнителя\n",
    "- Тип работы\n",
    "- Город\n",
    "- Продолжительность заказа\n",
    "- Расстояние от центра города\n",
    "- Рейтинг исполнителя\n",
    "- Возраст исполнителя\n",
    "- Опыт работы исполнителя (в годах)\n",
    "- Наличие бонусов\n",
    "- Историческая средняя зарплата за смену в этом районе\n",
    "- Уровень безработицы в регионе\n",
    "- День недели\n",
    "- Время суток\n",
    "- СезонПризнаки данных\n",
    "- ID заказа\n",
    "- ID исполнителя\n",
    "- Тип работы\n",
    "- Город\n",
    "- Продолжительность заказа\n",
    "- Расстояние от центра города\n",
    "- Рейтинг исполнителя\n",
    "- Возраст исполнителя\n",
    "- Опыт работы исполнителя (в годах)\n",
    "- Наличие бонусов\n",
    "- Историческая средняя зарплата за смену в этом районе\n",
    "- Уровень безработицы в регионе\n",
    "- День недели\n",
    "- Время суток\n",
    "- Сезон\n",
    "\n",
    "\n",
    "Данная модель работает на основе коллаборативной фильтрации\n"
   ]
  },
  {
   "cell_type": "code",
   "execution_count": 18,
   "id": "0d329711-7a9b-4853-9eeb-fb3c5bca6639",
   "metadata": {
    "execution": {
     "iopub.execute_input": "2024-08-04T04:10:18.142835Z",
     "iopub.status.busy": "2024-08-04T04:10:18.141223Z",
     "iopub.status.idle": "2024-08-04T04:10:18.152434Z",
     "shell.execute_reply": "2024-08-04T04:10:18.150184Z",
     "shell.execute_reply.started": "2024-08-04T04:10:18.142756Z"
    },
    "tags": []
   },
   "outputs": [],
   "source": [
    "import pandas as pd\n",
    "import numpy as np\n",
    "import warnings\n",
    "from sklearn.model_selection import train_test_split\n",
    "from sklearn.ensemble import RandomForestClassifier\n",
    "from sklearn.metrics import accuracy_score\n",
    "from sklearn.preprocessing import StandardScaler\n",
    "# Скрыть предупреждения\n",
    "warnings.filterwarnings('ignore')"
   ]
  },
  {
   "cell_type": "code",
   "execution_count": 33,
   "id": "d11aaebf-c484-44be-9d6d-e726baf090d9",
   "metadata": {
    "execution": {
     "iopub.execute_input": "2024-08-04T04:20:28.179805Z",
     "iopub.status.busy": "2024-08-04T04:20:28.179008Z",
     "iopub.status.idle": "2024-08-04T04:21:16.036286Z",
     "shell.execute_reply": "2024-08-04T04:21:16.033552Z",
     "shell.execute_reply.started": "2024-08-04T04:20:28.179726Z"
    },
    "tags": []
   },
   "outputs": [
    {
     "name": "stdout",
     "output_type": "stream",
     "text": [
      "Defaulting to user installation because normal site-packages is not writeable\n",
      "Collecting surprise\n",
      "  Downloading surprise-0.1-py2.py3-none-any.whl (1.8 kB)\n",
      "Collecting scikit-surprise (from surprise)\n",
      "  Downloading scikit_surprise-1.1.4.tar.gz (154 kB)\n",
      "\u001b[2K     \u001b[38;2;114;156;31m━━━━━━━━━━━━━━━━━━━━━━━━━━━━━━━━━━━━━\u001b[0m \u001b[32m154.4/154.4 kB\u001b[0m \u001b[31m782.2 kB/s\u001b[0m eta \u001b[36m0:00:00\u001b[0m1m707.2 kB/s\u001b[0m eta \u001b[36m0:00:01\u001b[0m\n",
      "\u001b[?25h  Installing build dependencies ... \u001b[?25ldone\n",
      "\u001b[?25h  Getting requirements to build wheel ... \u001b[?25ldone\n",
      "\u001b[?25h  Preparing metadata (pyproject.toml) ... \u001b[?25ldone\n",
      "\u001b[?25hRequirement already satisfied: joblib>=1.2.0 in /home/nikita/.local/lib/python3.10/site-packages (from scikit-surprise->surprise) (1.2.0)\n",
      "Requirement already satisfied: numpy>=1.19.5 in /home/nikita/.local/lib/python3.10/site-packages (from scikit-surprise->surprise) (1.24.1)\n",
      "Requirement already satisfied: scipy>=1.6.0 in /home/nikita/.local/lib/python3.10/site-packages (from scikit-surprise->surprise) (1.8.1)\n",
      "Building wheels for collected packages: scikit-surprise\n",
      "  Building wheel for scikit-surprise (pyproject.toml) ... \u001b[?25ldone\n",
      "\u001b[?25h  Created wheel for scikit-surprise: filename=scikit_surprise-1.1.4-cp310-cp310-linux_x86_64.whl size=2357246 sha256=72567153b606a7fe6a652a298ec586a88cf36e43d5e94336795392c3b32c9848\n",
      "  Stored in directory: /home/nikita/.cache/pip/wheels/4b/3f/df/6acbf0a40397d9bf3ff97f582cc22fb9ce66adde75bc71fd54\n",
      "Successfully built scikit-surprise\n",
      "Installing collected packages: scikit-surprise, surprise\n",
      "Successfully installed scikit-surprise-1.1.4 surprise-0.1\n",
      "\n",
      "\u001b[1m[\u001b[0m\u001b[34;49mnotice\u001b[0m\u001b[1;39;49m]\u001b[0m\u001b[39;49m A new release of pip is available: \u001b[0m\u001b[31;49m23.1.2\u001b[0m\u001b[39;49m -> \u001b[0m\u001b[32;49m24.2\u001b[0m\n",
      "\u001b[1m[\u001b[0m\u001b[34;49mnotice\u001b[0m\u001b[1;39;49m]\u001b[0m\u001b[39;49m To update, run: \u001b[0m\u001b[32;49mpython3 -m pip install --upgrade pip\u001b[0m\n"
     ]
    }
   ],
   "source": [
    "!pip install surprise"
   ]
  },
  {
   "cell_type": "code",
   "execution_count": 36,
   "id": "a43db275-bef4-4f85-bcfc-e28aa3fbd5bd",
   "metadata": {
    "execution": {
     "iopub.execute_input": "2024-08-04T04:22:38.790119Z",
     "iopub.status.busy": "2024-08-04T04:22:38.789714Z",
     "iopub.status.idle": "2024-08-04T04:22:38.989687Z",
     "shell.execute_reply": "2024-08-04T04:22:38.989224Z",
     "shell.execute_reply.started": "2024-08-04T04:22:38.790087Z"
    },
    "tags": []
   },
   "outputs": [
    {
     "name": "stdout",
     "output_type": "stream",
     "text": [
      "RMSE: 0.5094\n",
      "RMSE: 0.51\n"
     ]
    }
   ],
   "source": [
    "import pandas as pd\n",
    "import numpy as np\n",
    "from surprise import Dataset, Reader, SVD\n",
    "from surprise.model_selection import train_test_split\n",
    "from surprise.accuracy import rmse\n",
    "\n",
    "# Скрыть предупреждения\n",
    "import warnings\n",
    "warnings.filterwarnings('ignore')\n",
    "\n",
    "# Генерация примерных данных\n",
    "np.random.seed(42)\n",
    "\n",
    "# Чтение данных из CSV\n",
    "data = pd.read_csv('dataset_recommendations.csv')\n",
    "\n",
    "# Создание коллаборативной модели\n",
    "reader = Reader(rating_scale=(0, 1))\n",
    "dataset = Dataset.load_from_df(data[['ID_исполнителя', 'ID_заказа', 'выбран_заказ']], reader)\n",
    "trainset, testset = train_test_split(dataset, test_size=0.2)\n",
    "\n",
    "# Использование SVD модели для коллаборативной фильтрации\n",
    "model = SVD()\n",
    "model.fit(trainset)\n",
    "\n",
    "# Оценка модели\n",
    "predictions = model.test(testset)\n",
    "print(f'RMSE: {rmse(predictions):.2f}')\n"
   ]
  },
  {
   "cell_type": "code",
   "execution_count": 42,
   "id": "4b27c84e-8a57-4b1b-8483-2ab2df128c23",
   "metadata": {
    "execution": {
     "iopub.execute_input": "2024-08-04T04:24:58.635675Z",
     "iopub.status.busy": "2024-08-04T04:24:58.635253Z",
     "iopub.status.idle": "2024-08-04T04:24:58.644517Z",
     "shell.execute_reply": "2024-08-04T04:24:58.644006Z",
     "shell.execute_reply.started": "2024-08-04T04:24:58.635658Z"
    },
    "tags": []
   },
   "outputs": [
    {
     "name": "stdout",
     "output_type": "stream",
     "text": [
      "Вам рекомендован заказ:    ID_заказа тип_работы   город\n",
      "0      10002   покраска  Москва\n"
     ]
    }
   ],
   "source": [
    "def recommend_job_for_worker(model, worker_id, available_jobs, n_recommendations=1):\n",
    "    \"\"\"\n",
    "    Рекомендовать заказы для конкретного исполнителя.\n",
    "\n",
    "    :param model: Обученная модель коллаборативной фильтрации.\n",
    "    :param worker_id: ID исполнителя для рекомендации.\n",
    "    :param available_jobs: DataFrame с доступными заказами.\n",
    "    :param n_recommendations: Количество рекомендаций.\n",
    "    :return: DataFrame с рекомендованными заказами.\n",
    "    \"\"\"\n",
    "    # Прогнозирование оценки для каждого заказа\n",
    "    available_jobs['predicted_score'] = available_jobs['ID_заказа'].apply(lambda x: model.predict(worker_id, x).est)\n",
    "    \n",
    "    # Выбор top_n заказов с наивысшим прогнозируемым баллом\n",
    "    recommended_jobs = available_jobs.sort_values('predicted_score', ascending=False).head(n_recommendations)\n",
    "    \n",
    "    # Возвращение только нужных столбцов\n",
    "    return recommended_jobs[['ID_заказа', 'тип_работы', 'город']]\n",
    "\n",
    "# Пример списка доступных заказов для рекомендации\n",
    "available_jobs = pd.DataFrame({\n",
    "    'ID_заказа': [10002, 10003, 10004, 10005, 10006],\n",
    "    'тип_работы': ['покраска', 'штукатурка', 'электрика', 'уборка', 'покраска'],\n",
    "    'город': ['Москва', 'Санкт-Петербург', 'Новосибирск', 'Екатеринбург', 'Москва']\n",
    "})\n",
    "\n",
    "# Рекомендация одного заказа для исполнителя с ID 501\n",
    "worker_id = 501\n",
    "recommended_job = recommend_job_for_worker(model, worker_id, available_jobs, n_recommendations=1)\n",
    "print('Вам рекомендован заказ:',recommended_job)\n"
   ]
  }
 ],
 "metadata": {
  "kernelspec": {
   "display_name": "Python 3 (ipykernel)",
   "language": "python",
   "name": "python3"
  },
  "language_info": {
   "codemirror_mode": {
    "name": "ipython",
    "version": 3
   },
   "file_extension": ".py",
   "mimetype": "text/x-python",
   "name": "python",
   "nbconvert_exporter": "python",
   "pygments_lexer": "ipython3",
   "version": "3.10.12"
  }
 },
 "nbformat": 4,
 "nbformat_minor": 5
}
